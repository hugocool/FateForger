{
 "cells": [
  {
   "cell_type": "code",
   "execution_count": 3,
   "id": "facc38a9",
   "metadata": {},
   "outputs": [
    {
     "name": "stdout",
     "output_type": "stream",
     "text": [
      "Inserted: id=1 status=None description='This is just a test insert' color_id=None start=EventDateTime(date=None, date_time=datetime.datetime(2025, 7, 28, 16, 38, 6, 158768), time_zone='UTC') source=None extended_properties=None event_type=None calendar_id=None google_event_id=None summary='🧪 Test Meeting' location='Virtual' creator=CreatorOrganizer(id=None, email='tester@example.com', display_name='Tester', self_=None) end=EventDateTime(date=None, date_time=datetime.datetime(2025, 7, 28, 17, 38, 6, 158919), time_zone='UTC') transparency=None reminders=None\n",
      "All events in DB: [CalendarEvent(id=1, status=None, description='This is just a test insert', color_id=None, start=EventDateTime(date=None, date_time=datetime.datetime(2025, 7, 28, 16, 38, 6, 158768), time_zone='UTC'), source=None, extended_properties=None, event_type=None, calendar_id=None, google_event_id=None, summary='🧪 Test Meeting', location='Virtual', creator=CreatorOrganizer(id=None, email='tester@example.com', display_name='Tester', self_=None), end=EventDateTime(date=None, date_time=datetime.datetime(2025, 7, 28, 17, 38, 6, 158919), time_zone='UTC'), transparency=None, reminders=None)]\n"
     ]
    }
   ],
   "source": [
    "\n",
    "\n",
    "# %%python\n",
    "from datetime import datetime, timedelta\n",
    "from sqlmodel import SQLModel, create_engine, Session,select\n",
    "\n",
    "# your model import (adjust the path as needed)\n",
    "from fateforger.agents.schedular.models.calendar_event import (\n",
    "    CalendarEvent,\n",
    "    EventDateTime,\n",
    "    CreatorOrganizer,\n",
    ")\n",
    "\n",
    "# 1) create an in-memory SQLite DB and reflect models\n",
    "engine = create_engine(\"sqlite:///:memory:\")\n",
    "SQLModel.metadata.create_all(engine)\n",
    "\n",
    "# 2) open a session, add a sample event, commit & refresh\n",
    "with Session(engine) as session:\n",
    "    ev = CalendarEvent(\n",
    "\n",
    "        summary=\"🧪 Test Meeting\",\n",
    "        description=\"This is just a test insert\",\n",
    "        location=\"Virtual\",\n",
    "        creator=CreatorOrganizer(email=\"tester@example.com\", display_name=\"Tester\"),\n",
    "        start=EventDateTime(date_time=datetime.utcnow(), time_zone=\"UTC\"),\n",
    "        end=EventDateTime(date_time=datetime.utcnow() + timedelta(hours=1), time_zone=\"UTC\"),\n",
    "    )\n",
    "    session.add(ev)\n",
    "    session.commit()\n",
    "    session.refresh(ev)\n",
    "    print(\"Inserted:\", ev)\n",
    "\n",
    "# 3) query all events and print\n",
    "with Session(engine) as session:\n",
    "    statement = select(CalendarEvent)\n",
    "    all_events = session.exec(statement).all()\n",
    "    print(\"All events in DB:\", all_events)"
   ]
  },
  {
   "cell_type": "code",
   "execution_count": 1,
   "id": "7910cf90",
   "metadata": {},
   "outputs": [
    {
     "ename": "PydanticUserError",
     "evalue": "Error when building FieldInfo from annotated attribute. Make sure you don't have any field name clashing with a type annotation.\n\nFor further information visit https://errors.pydantic.dev/2.11/u/unevaluable-type-annotation",
     "output_type": "error",
     "traceback": [
      "\u001b[0;31m---------------------------------------------------------------------------\u001b[0m",
      "\u001b[0;31mPydanticUserError\u001b[0m                         Traceback (most recent call last)",
      "Cell \u001b[0;32mIn[1], line 7\u001b[0m\n\u001b[1;32m      4\u001b[0m \u001b[38;5;28;01mfrom\u001b[39;00m\u001b[38;5;250m \u001b[39m\u001b[38;5;21;01mdatetime\u001b[39;00m\u001b[38;5;250m \u001b[39m\u001b[38;5;28;01mimport\u001b[39;00m date\n\u001b[1;32m      6\u001b[0m \u001b[38;5;66;03m# imports from your codebase (CalendarEvent, EventDateTime, CreatorOrganizer already imported)\u001b[39;00m\n\u001b[0;32m----> 7\u001b[0m \u001b[38;5;28;01mfrom\u001b[39;00m\u001b[38;5;250m \u001b[39m\u001b[38;5;21;01mfateforger\u001b[39;00m\u001b[38;5;21;01m.\u001b[39;00m\u001b[38;5;21;01magents\u001b[39;00m\u001b[38;5;21;01m.\u001b[39;00m\u001b[38;5;21;01mschedular\u001b[39;00m\u001b[38;5;21;01m.\u001b[39;00m\u001b[38;5;21;01mmodels\u001b[39;00m\u001b[38;5;21;01m.\u001b[39;00m\u001b[38;5;21;01mschedule_draft\u001b[39;00m\u001b[38;5;250m \u001b[39m\u001b[38;5;28;01mimport\u001b[39;00m (\n\u001b[1;32m      8\u001b[0m     ScheduleDraft,\n\u001b[1;32m      9\u001b[0m     DraftStore,\n\u001b[1;32m     10\u001b[0m )\n\u001b[1;32m     12\u001b[0m \u001b[38;5;66;03m# 1. Spin up an in-memory SQLite and create tables\u001b[39;00m\n\u001b[1;32m     13\u001b[0m engine \u001b[38;5;241m=\u001b[39m create_engine(\u001b[38;5;124m\"\u001b[39m\u001b[38;5;124msqlite:///:memory:\u001b[39m\u001b[38;5;124m\"\u001b[39m)\n",
      "File \u001b[0;32m~/VScode-projects/admonish-1/src/fateforger/agents/schedular/models/schedule_draft.py:9\u001b[0m\n\u001b[1;32m      5\u001b[0m \u001b[38;5;28;01mfrom\u001b[39;00m\u001b[38;5;250m \u001b[39m\u001b[38;5;21;01mfateforger\u001b[39;00m\u001b[38;5;21;01m.\u001b[39;00m\u001b[38;5;21;01magents\u001b[39;00m\u001b[38;5;21;01m.\u001b[39;00m\u001b[38;5;21;01mschedular\u001b[39;00m\u001b[38;5;21;01m.\u001b[39;00m\u001b[38;5;21;01mmodels\u001b[39;00m\u001b[38;5;21;01m.\u001b[39;00m\u001b[38;5;21;01mcalendar_event\u001b[39;00m\u001b[38;5;250m \u001b[39m\u001b[38;5;28;01mimport\u001b[39;00m CalendarEvent\n\u001b[1;32m      6\u001b[0m \u001b[38;5;28;01mfrom\u001b[39;00m\u001b[38;5;250m \u001b[39m\u001b[38;5;21;01mfateforger\u001b[39;00m\u001b[38;5;21;01m.\u001b[39;00m\u001b[38;5;21;01magents\u001b[39;00m\u001b[38;5;21;01m.\u001b[39;00m\u001b[38;5;21;01mschedular\u001b[39;00m\u001b[38;5;21;01m.\u001b[39;00m\u001b[38;5;21;01mmodels\u001b[39;00m\u001b[38;5;21;01m.\u001b[39;00m\u001b[38;5;21;01mcalendar_event\u001b[39;00m\u001b[38;5;250m \u001b[39m\u001b[38;5;28;01mimport\u001b[39;00m PydanticJSON\n\u001b[0;32m----> 9\u001b[0m \u001b[38;5;28;01mclass\u001b[39;00m\u001b[38;5;250m \u001b[39m\u001b[38;5;21;01mScheduleDraft\u001b[39;00m(SQLModel, table\u001b[38;5;241m=\u001b[39m\u001b[38;5;28;01mTrue\u001b[39;00m):\n\u001b[1;32m     10\u001b[0m \u001b[38;5;250m    \u001b[39m\u001b[38;5;124;03m\"\"\"\u001b[39;00m\n\u001b[1;32m     11\u001b[0m \u001b[38;5;124;03m    Represents a draft schedule for a given date,\u001b[39;00m\n\u001b[1;32m     12\u001b[0m \u001b[38;5;124;03m    holding a list of CalendarEvent objects.\u001b[39;00m\n\u001b[1;32m     13\u001b[0m \u001b[38;5;124;03m    \"\"\"\u001b[39;00m\n\u001b[1;32m     15\u001b[0m     __tablename__ \u001b[38;5;241m=\u001b[39m \u001b[38;5;124m\"\u001b[39m\u001b[38;5;124mschedule_drafts\u001b[39m\u001b[38;5;124m\"\u001b[39m\n",
      "File \u001b[0;32m~/VScode-projects/admonish-1/.venv/lib/python3.10/site-packages/sqlmodel/main.py:539\u001b[0m, in \u001b[0;36mSQLModelMetaclass.__new__\u001b[0;34m(cls, name, bases, class_dict, **kwargs)\u001b[0m\n\u001b[1;32m    529\u001b[0m allowed_config_kwargs: Set[\u001b[38;5;28mstr\u001b[39m] \u001b[38;5;241m=\u001b[39m {\n\u001b[1;32m    530\u001b[0m     key\n\u001b[1;32m    531\u001b[0m     \u001b[38;5;28;01mfor\u001b[39;00m key \u001b[38;5;129;01min\u001b[39;00m \u001b[38;5;28mdir\u001b[39m(BaseConfig)\n\u001b[0;32m   (...)\u001b[0m\n\u001b[1;32m    534\u001b[0m     )  \u001b[38;5;66;03m# skip dunder methods and attributes\u001b[39;00m\n\u001b[1;32m    535\u001b[0m }\n\u001b[1;32m    536\u001b[0m config_kwargs \u001b[38;5;241m=\u001b[39m {\n\u001b[1;32m    537\u001b[0m     key: kwargs[key] \u001b[38;5;28;01mfor\u001b[39;00m key \u001b[38;5;129;01min\u001b[39;00m kwargs\u001b[38;5;241m.\u001b[39mkeys() \u001b[38;5;241m&\u001b[39m allowed_config_kwargs\n\u001b[1;32m    538\u001b[0m }\n\u001b[0;32m--> 539\u001b[0m new_cls \u001b[38;5;241m=\u001b[39m \u001b[38;5;28;43msuper\u001b[39;49m\u001b[43m(\u001b[49m\u001b[43m)\u001b[49m\u001b[38;5;241;43m.\u001b[39;49m\u001b[38;5;21;43m__new__\u001b[39;49m\u001b[43m(\u001b[49m\u001b[38;5;28;43mcls\u001b[39;49m\u001b[43m,\u001b[49m\u001b[43m \u001b[49m\u001b[43mname\u001b[49m\u001b[43m,\u001b[49m\u001b[43m \u001b[49m\u001b[43mbases\u001b[49m\u001b[43m,\u001b[49m\u001b[43m \u001b[49m\u001b[43mdict_used\u001b[49m\u001b[43m,\u001b[49m\u001b[43m \u001b[49m\u001b[38;5;241;43m*\u001b[39;49m\u001b[38;5;241;43m*\u001b[39;49m\u001b[43mconfig_kwargs\u001b[49m\u001b[43m)\u001b[49m\n\u001b[1;32m    540\u001b[0m new_cls\u001b[38;5;241m.\u001b[39m\u001b[38;5;18m__annotations__\u001b[39m \u001b[38;5;241m=\u001b[39m {\n\u001b[1;32m    541\u001b[0m     \u001b[38;5;241m*\u001b[39m\u001b[38;5;241m*\u001b[39mrelationship_annotations,\n\u001b[1;32m    542\u001b[0m     \u001b[38;5;241m*\u001b[39m\u001b[38;5;241m*\u001b[39mpydantic_annotations,\n\u001b[1;32m    543\u001b[0m     \u001b[38;5;241m*\u001b[39m\u001b[38;5;241m*\u001b[39mnew_cls\u001b[38;5;241m.\u001b[39m\u001b[38;5;18m__annotations__\u001b[39m,\n\u001b[1;32m    544\u001b[0m }\n\u001b[1;32m    546\u001b[0m \u001b[38;5;28;01mdef\u001b[39;00m\u001b[38;5;250m \u001b[39m\u001b[38;5;21mget_config\u001b[39m(name: \u001b[38;5;28mstr\u001b[39m) \u001b[38;5;241m-\u001b[39m\u001b[38;5;241m>\u001b[39m Any:\n",
      "File \u001b[0;32m~/VScode-projects/admonish-1/.venv/lib/python3.10/site-packages/pydantic/_internal/_model_construction.py:221\u001b[0m, in \u001b[0;36mModelMetaclass.__new__\u001b[0;34m(mcs, cls_name, bases, namespace, __pydantic_generic_metadata__, __pydantic_reset_parent_namespace__, _create_model_module, **kwargs)\u001b[0m\n\u001b[1;32m    217\u001b[0m     parent_namespace \u001b[38;5;241m=\u001b[39m unpack_lenient_weakvaluedict(parent_namespace)\n\u001b[1;32m    219\u001b[0m ns_resolver \u001b[38;5;241m=\u001b[39m NsResolver(parent_namespace\u001b[38;5;241m=\u001b[39mparent_namespace)\n\u001b[0;32m--> 221\u001b[0m \u001b[43mset_model_fields\u001b[49m\u001b[43m(\u001b[49m\u001b[38;5;28;43mcls\u001b[39;49m\u001b[43m,\u001b[49m\u001b[43m \u001b[49m\u001b[43mconfig_wrapper\u001b[49m\u001b[38;5;241;43m=\u001b[39;49m\u001b[43mconfig_wrapper\u001b[49m\u001b[43m,\u001b[49m\u001b[43m \u001b[49m\u001b[43mns_resolver\u001b[49m\u001b[38;5;241;43m=\u001b[39;49m\u001b[43mns_resolver\u001b[49m\u001b[43m)\u001b[49m\n\u001b[1;32m    223\u001b[0m \u001b[38;5;66;03m# This is also set in `complete_model_class()`, after schema gen because they are recreated.\u001b[39;00m\n\u001b[1;32m    224\u001b[0m \u001b[38;5;66;03m# We set them here as well for backwards compatibility:\u001b[39;00m\n\u001b[1;32m    225\u001b[0m \u001b[38;5;28mcls\u001b[39m\u001b[38;5;241m.\u001b[39m__pydantic_computed_fields__ \u001b[38;5;241m=\u001b[39m {\n\u001b[1;32m    226\u001b[0m     k: v\u001b[38;5;241m.\u001b[39minfo \u001b[38;5;28;01mfor\u001b[39;00m k, v \u001b[38;5;129;01min\u001b[39;00m \u001b[38;5;28mcls\u001b[39m\u001b[38;5;241m.\u001b[39m__pydantic_decorators__\u001b[38;5;241m.\u001b[39mcomputed_fields\u001b[38;5;241m.\u001b[39mitems()\n\u001b[1;32m    227\u001b[0m }\n",
      "File \u001b[0;32m~/VScode-projects/admonish-1/.venv/lib/python3.10/site-packages/pydantic/_internal/_model_construction.py:544\u001b[0m, in \u001b[0;36mset_model_fields\u001b[0;34m(cls, config_wrapper, ns_resolver)\u001b[0m\n\u001b[1;32m    536\u001b[0m \u001b[38;5;250m\u001b[39m\u001b[38;5;124;03m\"\"\"Collect and set `cls.__pydantic_fields__` and `cls.__class_vars__`.\u001b[39;00m\n\u001b[1;32m    537\u001b[0m \n\u001b[1;32m    538\u001b[0m \u001b[38;5;124;03mArgs:\u001b[39;00m\n\u001b[0;32m   (...)\u001b[0m\n\u001b[1;32m    541\u001b[0m \u001b[38;5;124;03m    ns_resolver: Namespace resolver to use when getting model annotations.\u001b[39;00m\n\u001b[1;32m    542\u001b[0m \u001b[38;5;124;03m\"\"\"\u001b[39;00m\n\u001b[1;32m    543\u001b[0m typevars_map \u001b[38;5;241m=\u001b[39m get_model_typevars_map(\u001b[38;5;28mcls\u001b[39m)\n\u001b[0;32m--> 544\u001b[0m fields, class_vars \u001b[38;5;241m=\u001b[39m \u001b[43mcollect_model_fields\u001b[49m\u001b[43m(\u001b[49m\u001b[38;5;28;43mcls\u001b[39;49m\u001b[43m,\u001b[49m\u001b[43m \u001b[49m\u001b[43mconfig_wrapper\u001b[49m\u001b[43m,\u001b[49m\u001b[43m \u001b[49m\u001b[43mns_resolver\u001b[49m\u001b[43m,\u001b[49m\u001b[43m \u001b[49m\u001b[43mtypevars_map\u001b[49m\u001b[38;5;241;43m=\u001b[39;49m\u001b[43mtypevars_map\u001b[49m\u001b[43m)\u001b[49m\n\u001b[1;32m    546\u001b[0m \u001b[38;5;28mcls\u001b[39m\u001b[38;5;241m.\u001b[39m__pydantic_fields__ \u001b[38;5;241m=\u001b[39m fields\n\u001b[1;32m    547\u001b[0m \u001b[38;5;28mcls\u001b[39m\u001b[38;5;241m.\u001b[39m__class_vars__\u001b[38;5;241m.\u001b[39mupdate(class_vars)\n",
      "File \u001b[0;32m~/VScode-projects/admonish-1/.venv/lib/python3.10/site-packages/pydantic/_internal/_fields.py:237\u001b[0m, in \u001b[0;36mcollect_model_fields\u001b[0;34m(cls, config_wrapper, ns_resolver, typevars_map)\u001b[0m\n\u001b[1;32m    232\u001b[0m \u001b[38;5;66;03m# The `from_annotated_attribute()` call below mutates the assigned `Field()`, so make a copy:\u001b[39;00m\n\u001b[1;32m    233\u001b[0m original_assignment \u001b[38;5;241m=\u001b[39m (\n\u001b[1;32m    234\u001b[0m     assigned_value\u001b[38;5;241m.\u001b[39m_copy() \u001b[38;5;28;01mif\u001b[39;00m \u001b[38;5;129;01mnot\u001b[39;00m evaluated \u001b[38;5;129;01mand\u001b[39;00m \u001b[38;5;28misinstance\u001b[39m(assigned_value, FieldInfo_) \u001b[38;5;28;01melse\u001b[39;00m assigned_value\n\u001b[1;32m    235\u001b[0m )\n\u001b[0;32m--> 237\u001b[0m field_info \u001b[38;5;241m=\u001b[39m \u001b[43mFieldInfo_\u001b[49m\u001b[38;5;241;43m.\u001b[39;49m\u001b[43mfrom_annotated_attribute\u001b[49m\u001b[43m(\u001b[49m\u001b[43mann_type\u001b[49m\u001b[43m,\u001b[49m\u001b[43m \u001b[49m\u001b[43massigned_value\u001b[49m\u001b[43m,\u001b[49m\u001b[43m \u001b[49m\u001b[43m_source\u001b[49m\u001b[38;5;241;43m=\u001b[39;49m\u001b[43mAnnotationSource\u001b[49m\u001b[38;5;241;43m.\u001b[39;49m\u001b[43mCLASS\u001b[49m\u001b[43m)\u001b[49m\n\u001b[1;32m    238\u001b[0m \u001b[38;5;66;03m# Store the original annotation and assignment value that should be used to rebuild the field info later.\u001b[39;00m\n\u001b[1;32m    239\u001b[0m \u001b[38;5;66;03m# Note that the assignment is always stored as the annotation might contain a type var that is later\u001b[39;00m\n\u001b[1;32m    240\u001b[0m \u001b[38;5;66;03m#  parameterized with an unknown forward reference (and we'll need it to rebuild the field info):\u001b[39;00m\n\u001b[1;32m    241\u001b[0m field_info\u001b[38;5;241m.\u001b[39m_original_assignment \u001b[38;5;241m=\u001b[39m original_assignment\n",
      "File \u001b[0;32m~/VScode-projects/admonish-1/.venv/lib/python3.10/site-packages/pydantic/fields.py:396\u001b[0m, in \u001b[0;36mFieldInfo.from_annotated_attribute\u001b[0;34m(annotation, default, _source)\u001b[0m\n\u001b[1;32m    371\u001b[0m \u001b[38;5;250m\u001b[39m\u001b[38;5;124;03m\"\"\"Create `FieldInfo` from an annotation with a default value.\u001b[39;00m\n\u001b[1;32m    372\u001b[0m \n\u001b[1;32m    373\u001b[0m \u001b[38;5;124;03mThis is used in cases like the following:\u001b[39;00m\n\u001b[0;32m   (...)\u001b[0m\n\u001b[1;32m    393\u001b[0m \u001b[38;5;124;03m    A field object with the passed values.\u001b[39;00m\n\u001b[1;32m    394\u001b[0m \u001b[38;5;124;03m\"\"\"\u001b[39;00m\n\u001b[1;32m    395\u001b[0m \u001b[38;5;28;01mif\u001b[39;00m annotation \u001b[38;5;129;01mis\u001b[39;00m default:\n\u001b[0;32m--> 396\u001b[0m     \u001b[38;5;28;01mraise\u001b[39;00m PydanticUserError(\n\u001b[1;32m    397\u001b[0m         \u001b[38;5;124m'\u001b[39m\u001b[38;5;124mError when building FieldInfo from annotated attribute. \u001b[39m\u001b[38;5;124m'\u001b[39m\n\u001b[1;32m    398\u001b[0m         \u001b[38;5;124m\"\u001b[39m\u001b[38;5;124mMake sure you don\u001b[39m\u001b[38;5;124m'\u001b[39m\u001b[38;5;124mt have any field name clashing with a type annotation.\u001b[39m\u001b[38;5;124m\"\u001b[39m,\n\u001b[1;32m    399\u001b[0m         code\u001b[38;5;241m=\u001b[39m\u001b[38;5;124m'\u001b[39m\u001b[38;5;124munevaluable-type-annotation\u001b[39m\u001b[38;5;124m'\u001b[39m,\n\u001b[1;32m    400\u001b[0m     )\n\u001b[1;32m    402\u001b[0m \u001b[38;5;28;01mtry\u001b[39;00m:\n\u001b[1;32m    403\u001b[0m     inspected_ann \u001b[38;5;241m=\u001b[39m inspect_annotation(\n\u001b[1;32m    404\u001b[0m         annotation,\n\u001b[1;32m    405\u001b[0m         annotation_source\u001b[38;5;241m=\u001b[39m_source,\n\u001b[1;32m    406\u001b[0m         unpack_type_aliases\u001b[38;5;241m=\u001b[39m\u001b[38;5;124m'\u001b[39m\u001b[38;5;124mskip\u001b[39m\u001b[38;5;124m'\u001b[39m,\n\u001b[1;32m    407\u001b[0m     )\n",
      "\u001b[0;31mPydanticUserError\u001b[0m: Error when building FieldInfo from annotated attribute. Make sure you don't have any field name clashing with a type annotation.\n\nFor further information visit https://errors.pydantic.dev/2.11/u/unevaluable-type-annotation"
     ]
    }
   ],
   "source": [
    "# %% cell\n",
    "# 🔧 Test the DraftStore CRUD for ScheduleDraft\n",
    "\n",
    "from datetime import date\n",
    "\n",
    "# imports from your codebase (CalendarEvent, EventDateTime, CreatorOrganizer already imported)\n",
    "from fateforger.agents.schedular.models.schedule_draft import (\n",
    "    ScheduleDraft,\n",
    "    DraftStore,\n",
    ")\n",
    "\n",
    "# 1. Spin up an in-memory SQLite and create tables\n",
    "engine = create_engine(\"sqlite:///:memory:\")\n",
    "SQLModel.metadata.create_all(engine)\n",
    "\n",
    "with Session(engine) as session:\n",
    "    store = DraftStore(session)\n",
    "\n",
    "    # 2. Build two sample CalendarEvent objects\n",
    "    now = datetime.utcnow()\n",
    "    ev1 = CalendarEvent(\n",
    "        summary=\"Draft Event 1\",\n",
    "        start=EventDateTime(date_time=now, time_zone=\"UTC\"),\n",
    "        end=EventDateTime(date_time=now + timedelta(hours=1), time_zone=\"UTC\"),\n",
    "        creator=CreatorOrganizer(email=\"user1@example.com\", display_name=\"User One\"),\n",
    "    )\n",
    "    ev2 = CalendarEvent(\n",
    "        summary=\"Draft Event 2\",\n",
    "        start=EventDateTime(date_time=now + timedelta(hours=2), time_zone=\"UTC\"),\n",
    "        end=EventDateTime(date_time=now + timedelta(hours=3), time_zone=\"UTC\"),\n",
    "        creator=CreatorOrganizer(email=\"user2@example.com\", display_name=\"User Two\"),\n",
    "    )\n",
    "\n",
    "    # 3. Create & save a ScheduleDraft for today\n",
    "    today = date.today()\n",
    "    draft = ScheduleDraft(date=today, events=[ev1, ev2])\n",
    "    saved = store.save(draft)\n",
    "    print(\"✅ Saved draft:\", saved)\n",
    "\n",
    "    # 4. Retrieve it by date\n",
    "    loaded = store.get_by_date(today)\n",
    "    print(\"🔍 Loaded draft:\", loaded)\n",
    "\n",
    "    # 5. List all drafts\n",
    "    all_drafts = store.list_all()\n",
    "    print(\"📑 All drafts in DB:\", all_drafts)\n",
    "\n",
    "    # 6. Delete and verify removal\n",
    "    store.delete(saved.id)\n",
    "    print(\"🗑 After delete, drafts:\", store.list_all())"
   ]
  }
 ],
 "metadata": {
  "kernelspec": {
   "display_name": "admonish-py3.10",
   "language": "python",
   "name": "python3"
  },
  "language_info": {
   "codemirror_mode": {
    "name": "ipython",
    "version": 3
   },
   "file_extension": ".py",
   "mimetype": "text/x-python",
   "name": "python",
   "nbconvert_exporter": "python",
   "pygments_lexer": "ipython3",
   "version": "3.10.3"
  }
 },
 "nbformat": 4,
 "nbformat_minor": 5
}
