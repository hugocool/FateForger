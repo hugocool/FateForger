{
 "cells": [
  {
   "cell_type": "code",
   "execution_count": 3,
   "id": "facc38a9",
   "metadata": {},
   "outputs": [
    {
     "name": "stdout",
     "output_type": "stream",
     "text": [
      "Inserted: id=1 status=None description='This is just a test insert' color_id=None start=EventDateTime(date=None, date_time=datetime.datetime(2025, 7, 28, 16, 38, 6, 158768), time_zone='UTC') source=None extended_properties=None event_type=None calendar_id=None google_event_id=None summary='🧪 Test Meeting' location='Virtual' creator=CreatorOrganizer(id=None, email='tester@example.com', display_name='Tester', self_=None) end=EventDateTime(date=None, date_time=datetime.datetime(2025, 7, 28, 17, 38, 6, 158919), time_zone='UTC') transparency=None reminders=None\n",
      "All events in DB: [CalendarEvent(id=1, status=None, description='This is just a test insert', color_id=None, start=EventDateTime(date=None, date_time=datetime.datetime(2025, 7, 28, 16, 38, 6, 158768), time_zone='UTC'), source=None, extended_properties=None, event_type=None, calendar_id=None, google_event_id=None, summary='🧪 Test Meeting', location='Virtual', creator=CreatorOrganizer(id=None, email='tester@example.com', display_name='Tester', self_=None), end=EventDateTime(date=None, date_time=datetime.datetime(2025, 7, 28, 17, 38, 6, 158919), time_zone='UTC'), transparency=None, reminders=None)]\n"
     ]
    }
   ],
   "source": [
    "\n",
    "\n",
    "# %%python\n",
    "from datetime import datetime, timedelta\n",
    "from sqlmodel import SQLModel, create_engine, Session,select\n",
    "\n",
    "# your model import (adjust the path as needed)\n",
    "from fateforger.agents.schedular.models.calendar_event import (\n",
    "    CalendarEvent,\n",
    "    EventDateTime,\n",
    "    CreatorOrganizer,\n",
    ")\n",
    "\n",
    "# 1) create an in-memory SQLite DB and reflect models\n",
    "engine = create_engine(\"sqlite:///:memory:\")\n",
    "SQLModel.metadata.create_all(engine)\n",
    "\n",
    "# 2) open a session, add a sample event, commit & refresh\n",
    "with Session(engine) as session:\n",
    "    ev = CalendarEvent(\n",
    "\n",
    "        summary=\"🧪 Test Meeting\",\n",
    "        description=\"This is just a test insert\",\n",
    "        location=\"Virtual\",\n",
    "        creator=CreatorOrganizer(email=\"tester@example.com\", display_name=\"Tester\"),\n",
    "        start=EventDateTime(date_time=datetime.utcnow(), time_zone=\"UTC\"),\n",
    "        end=EventDateTime(date_time=datetime.utcnow() + timedelta(hours=1), time_zone=\"UTC\"),\n",
    "    )\n",
    "    session.add(ev)\n",
    "    session.commit()\n",
    "    session.refresh(ev)\n",
    "    print(\"Inserted:\", ev)\n",
    "\n",
    "# 3) query all events and print\n",
    "with Session(engine) as session:\n",
    "    statement = select(CalendarEvent)\n",
    "    all_events = session.exec(statement).all()\n",
    "    print(\"All events in DB:\", all_events)"
   ]
  }
 ],
 "metadata": {
  "kernelspec": {
   "display_name": "admonish-py3.10",
   "language": "python",
   "name": "python3"
  },
  "language_info": {
   "codemirror_mode": {
    "name": "ipython",
    "version": 3
   },
   "file_extension": ".py",
   "mimetype": "text/x-python",
   "name": "python",
   "nbconvert_exporter": "python",
   "pygments_lexer": "ipython3",
   "version": "3.10.3"
  }
 },
 "nbformat": 4,
 "nbformat_minor": 5
}
