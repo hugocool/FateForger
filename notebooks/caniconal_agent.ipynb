{
 "cells": [
  {
   "cell_type": "code",
   "execution_count": 1,
   "id": "8db7da19",
   "metadata": {},
   "outputs": [],
   "source": [
    "\n",
    "\n",
    "from productivity_bot.actions.planner_action import get_planner_system_message, PlannerAction\n"
   ]
  },
  {
   "cell_type": "code",
   "execution_count": 3,
   "id": "7213e926",
   "metadata": {},
   "outputs": [
    {
     "ename": "AttributeError",
     "evalue": "'AssistantAgent' object has no attribute 'on_user_message'",
     "output_type": "error",
     "traceback": [
      "\u001b[0;31m---------------------------------------------------------------------------\u001b[0m",
      "\u001b[0;31mAttributeError\u001b[0m                            Traceback (most recent call last)",
      "Cell \u001b[0;32mIn[3], line 11\u001b[0m\n\u001b[1;32m      2\u001b[0m \u001b[38;5;28;01mfrom\u001b[39;00m\u001b[38;5;250m \u001b[39m\u001b[38;5;21;01mautogen_ext\u001b[39;00m\u001b[38;5;21;01m.\u001b[39;00m\u001b[38;5;21;01mmodels\u001b[39;00m\u001b[38;5;21;01m.\u001b[39;00m\u001b[38;5;21;01mopenai\u001b[39;00m\u001b[38;5;250m \u001b[39m\u001b[38;5;28;01mimport\u001b[39;00m OpenAIChatCompletionClient\n\u001b[1;32m      4\u001b[0m planner_agent \u001b[38;5;241m=\u001b[39m AssistantAgent(\n\u001b[1;32m      5\u001b[0m     name\u001b[38;5;241m=\u001b[39m\u001b[38;5;124m\"\u001b[39m\u001b[38;5;124mplanner_agent\u001b[39m\u001b[38;5;124m\"\u001b[39m,\n\u001b[1;32m      6\u001b[0m     model_client\u001b[38;5;241m=\u001b[39mOpenAIChatCompletionClient(model\u001b[38;5;241m=\u001b[39m\u001b[38;5;124m\"\u001b[39m\u001b[38;5;124mgpt-4o\u001b[39m\u001b[38;5;124m\"\u001b[39m, api_key\u001b[38;5;241m=\u001b[39m\u001b[38;5;124m\"\u001b[39m\u001b[38;5;124m…\u001b[39m\u001b[38;5;124m\"\u001b[39m),\n\u001b[1;32m      7\u001b[0m     system_message\u001b[38;5;241m=\u001b[39mget_planner_system_message(),\n\u001b[1;32m      8\u001b[0m     output_content_type\u001b[38;5;241m=\u001b[39mPlannerAction,\n\u001b[1;32m      9\u001b[0m )\n\u001b[0;32m---> 11\u001b[0m response \u001b[38;5;241m=\u001b[39m \u001b[38;5;28;01mawait\u001b[39;00m planner_agent\u001b[38;5;241m.\u001b[39mon_user_message(UserMessage(\u001b[38;5;124m\"\u001b[39m\u001b[38;5;124mreschedule\u001b[39m\u001b[38;5;124m\"\u001b[39m, source\u001b[38;5;241m=\u001b[39m\u001b[38;5;124m\"\u001b[39m\u001b[38;5;124muser\u001b[39m\u001b[38;5;124m\"\u001b[39m))\n",
      "\u001b[0;31mAttributeError\u001b[0m: 'AssistantAgent' object has no attribute 'on_user_message'"
     ]
    }
   ],
   "source": [
    "from autogen_agentchat.agents import AssistantAgent\n",
    "from autogen_ext.models.openai import OpenAIChatCompletionClient\n",
    "\n",
    "planner_agent = AssistantAgent(\n",
    "    name=\"planner_agent\",\n",
    "    model_client=OpenAIChatCompletionClient(model=\"gpt-4o\", api_key=\"…\"),\n",
    "    system_message=get_planner_system_message(),\n",
    "    output_content_type=PlannerAction,\n",
    ")\n",
    "\n",
    "response = await planner_agent.on_user_message(UserMessage(\"reschedule\", source=\"user\"))"
   ]
  },
  {
   "cell_type": "code",
   "execution_count": null,
   "id": "2841c771",
   "metadata": {},
   "outputs": [],
   "source": [
    "# Test the canonical intent parsing agent\n",
    "async def test_canonical_agent():\n",
    "    \"\"\"Test the canonical intent parsing agent with various inputs.\"\"\"\n",
    "    \n",
    "    # You'll need to set your OpenAI API key\n",
    "    api_key = \"your-openai-api-key-here\"  # Replace with actual key\n",
    "    agent = CanonicalIntentParsingAgent(api_key)\n",
    "    \n",
    "    # Test cases covering different intent types\n",
    "    test_inputs = [\n",
    "        \"postpone this for 30 minutes\",\n",
    "        \"done, all finished\",\n",
    "        \"create a new calendar event\",\n",
    "        \"gimme 5 minutes\",\n",
    "        \"mark this as complete\", \n",
    "        \"schedule this for 8pm tomorrow\",\n",
    "        \"delay for an hour\",\n",
    "        \"I'm all set, wrap it up\",\n",
    "        \"random unclear message\",\n",
    "        \"not now, maybe later\"\n",
    "    ]\n",
    "    \n",
    "    print(\"Testing Canonical Intent Parsing Agent\")\n",
    "    print(\"=\" * 50)\n",
    "    \n",
    "    for i, user_input in enumerate(test_inputs, 1):\n",
    "        try:\n",
    "            action = await agent.parse_intent(user_input)\n",
    "            print(f\"{i:2d}. Input: '{user_input}'\")\n",
    "            print(f\"    Action: {action.action}\")\n",
    "            if action.minutes:\n",
    "                print(f\"    Minutes: {action.minutes}\")\n",
    "            if action.commitment_time:\n",
    "                print(f\"    Commitment: {action.commitment_time}\")\n",
    "            print()\n",
    "        except Exception as e:\n",
    "            print(f\"{i:2d}. Input: '{user_input}' - ERROR: {e}\")\n",
    "    \n",
    "    # Test batch processing\n",
    "    print(\"Testing batch processing...\")\n",
    "    batch_results = await agent.batch_parse_intents(test_inputs[:3])\n",
    "    for i, (input_text, result) in enumerate(zip(test_inputs[:3], batch_results)):\n",
    "        print(f\"Batch {i+1}: '{input_text}' -> {result.action}\")\n",
    "\n",
    "# Uncomment and run this to test (you'll need to add your OpenAI API key)\n",
    "# await test_canonical_agent()"
   ]
  }
 ],
 "metadata": {
  "kernelspec": {
   "display_name": "admonish-py3.10",
   "language": "python",
   "name": "python3"
  },
  "language_info": {
   "codemirror_mode": {
    "name": "ipython",
    "version": 3
   },
   "file_extension": ".py",
   "mimetype": "text/x-python",
   "name": "python",
   "nbconvert_exporter": "python",
   "pygments_lexer": "ipython3",
   "version": "3.10.3"
  }
 },
 "nbformat": 4,
 "nbformat_minor": 5
}
